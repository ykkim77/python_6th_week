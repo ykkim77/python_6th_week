{
  "nbformat": 4,
  "nbformat_minor": 0,
  "metadata": {
    "colab": {
      "name": "6th-week.ipynb",
      "provenance": [],
      "include_colab_link": true
    },
    "kernelspec": {
      "name": "python3",
      "display_name": "Python 3"
    }
  },
  "cells": [
    {
      "cell_type": "markdown",
      "metadata": {
        "id": "view-in-github",
        "colab_type": "text"
      },
      "source": [
        "<a href=\"https://colab.research.google.com/github/ykkim77/python_6th_week/blob/main/6th_week.ipynb\" target=\"_parent\"><img src=\"https://colab.research.google.com/assets/colab-badge.svg\" alt=\"Open In Colab\"/></a>"
      ]
    },
    {
      "cell_type": "markdown",
      "metadata": {
        "id": "lgmy9VkSPdNP"
      },
      "source": [
        "**정상 혈압 **    \n",
        "\n",
        "\n",
        "![Cap 2021-03-12 03-37-17-371.png](data:image/png;base64,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)\n"
      ]
    },
    {
      "cell_type": "markdown",
      "metadata": {
        "id": "6qwi_7vFMzrH"
      },
      "source": [
        "**딕셔너리 형태로 변수 선언**"
      ]
    },
    {
      "cell_type": "code",
      "metadata": {
        "id": "_gekCTdlFAN0"
      },
      "source": [
        "bloodPressure={}"
      ],
      "execution_count": 3,
      "outputs": []
    },
    {
      "cell_type": "markdown",
      "metadata": {
        "id": "1bRu5xYsM6ZR"
      },
      "source": [
        "**나이 입력 받기**"
      ]
    },
    {
      "cell_type": "code",
      "metadata": {
        "colab": {
          "base_uri": "https://localhost:8080/"
        },
        "id": "lzAplJEREwqb",
        "outputId": "56c13c82-6147-4e02-905a-2029780c66f0"
      },
      "source": [
        "print(\"당신의 나이를 입력하세요\")   # 나이 입력\n",
        "bloodPressure['age'] = int(input())"
      ],
      "execution_count": 4,
      "outputs": [
        {
          "name": "stdout",
          "output_type": "stream",
          "text": [
            "당신의 나이를 입력하세요\n",
            "32\n"
          ]
        }
      ]
    },
    {
      "cell_type": "markdown",
      "metadata": {
        "id": "ZcuqLOcjNBvl"
      },
      "source": [
        "**성별 입력**"
      ]
    },
    {
      "cell_type": "code",
      "metadata": {
        "colab": {
          "base_uri": "https://localhost:8080/"
        },
        "id": "z91UZxDTHpQn",
        "outputId": "d4a5cd1f-6dad-401c-9170-4f4f4ec596c2"
      },
      "source": [
        "print(\"당신의 성별을 입력하세요 : 예: 남성- M, 여성-F\")   # 성별 입력\n",
        "bloodPressure['sex'] = input()"
      ],
      "execution_count": 5,
      "outputs": [
        {
          "name": "stdout",
          "output_type": "stream",
          "text": [
            "당신의 성별을 입력하세요 : 예: 남성- M, 여성-F\n",
            "M\n"
          ]
        }
      ]
    },
    {
      "cell_type": "markdown",
      "metadata": {
        "id": "z43DgK8cN03E"
      },
      "source": [
        "**최고 혈압입력**"
      ]
    },
    {
      "cell_type": "code",
      "metadata": {
        "colab": {
          "base_uri": "https://localhost:8080/"
        },
        "id": "ZcW4lzGEJ--1",
        "outputId": "a8667a76-d45c-4f81-d80f-25e7f5507b8d"
      },
      "source": [
        "print(\"최고 혈압을 입력하세요 : \")   # 최고 혈압 입력\n",
        "bloodPressure['maxBP'] = int(input())"
      ],
      "execution_count": 6,
      "outputs": [
        {
          "name": "stdout",
          "output_type": "stream",
          "text": [
            "최고 혈압을 입력하세요 : \n",
            "120\n"
          ]
        }
      ]
    },
    {
      "cell_type": "markdown",
      "metadata": {
        "id": "S9Q7anDjN7vn"
      },
      "source": [
        "**최저 혈압 입력**\n",
        "\n"
      ]
    },
    {
      "cell_type": "code",
      "metadata": {
        "colab": {
          "base_uri": "https://localhost:8080/"
        },
        "id": "3OBCc7aUMs-U",
        "outputId": "6b1f6277-ebd0-4bc5-e7c3-86d1d881b9d8"
      },
      "source": [
        "print(\"최저 혈압을 입력하세요 : \")   # 최저 혈압 입력\n",
        "bloodPressure['minBP'] = int(input())"
      ],
      "execution_count": 8,
      "outputs": [
        {
          "name": "stdout",
          "output_type": "stream",
          "text": [
            "최저 혈압을 입력하세요 : \n",
            "80\n"
          ]
        }
      ]
    },
    {
      "cell_type": "markdown",
      "metadata": {
        "id": "f3Jiw1oGOjU_"
      },
      "source": [
        "**입력된 데이터 확인**"
      ]
    },
    {
      "cell_type": "code",
      "metadata": {
        "colab": {
          "base_uri": "https://localhost:8080/"
        },
        "id": "H42_MTZzOhy8",
        "outputId": "a0a7901b-b8c9-4da9-b1a7-57accd8e1d7e"
      },
      "source": [
        "print(bloodPressure)"
      ],
      "execution_count": 9,
      "outputs": [
        {
          "output_type": "stream",
          "name": "stdout",
          "text": [
            "{'age': 32, 'sex': 'M', 'maxBP': 120, 'minBP': 80}\n"
          ]
        }
      ]
    },
    {
      "cell_type": "markdown",
      "metadata": {
        "id": "PIuKkt4aPIxg"
      },
      "source": [
        "**정상 혈압 판별**  \n",
        "(10살 이하 나이에 대해서는 예외처리)"
      ]
    },
    {
      "cell_type": "code",
      "metadata": {
        "colab": {
          "base_uri": "https://localhost:8080/"
        },
        "id": "D78LNSkqO_ib",
        "outputId": "d86c3659-c331-403f-a59b-9474ff84c2bc"
      },
      "source": [
        "if (bloodPressure['age'] >= 10 and bloodPressure['age'] < 20):  # 10대\n",
        "    if(bloodPressure['sex'] == 'M'):\n",
        "        if(bloodPressure['maxBP']<102 and bloodPressure['minBP']<64):\n",
        "            print(\"정상 혈압입니다.\")\n",
        "        else:\n",
        "            print(\"비정상 혈압입니다. 정밀 검사가 필요합니다\")\n",
        "    elif (bloodPressure['sex'] == 'F'):\n",
        "        if(bloodPressure['maxBP']<98 and bloodPressure['minBP']<62):\n",
        "            print(\"정상 혈압입니다.\")\n",
        "        else:\n",
        "            print(\"비정상 혈압입니다. 정밀 검사가 필요합니다\")\n",
        "    else:\n",
        "        print(\"성별을 잘못 입력하였습니다.\")    # 성별에 대한 예외 처리\n",
        "\n",
        "elif (bloodPressure['age'] >= 20  ): # 20대 이상\n",
        "\n",
        "    if(bloodPressure['sex'] == 'M'):\n",
        "        if(bloodPressure['maxBP']<120 and bloodPressure['minBP']<80):\n",
        "            print(\"정상 혈압입니다.\")\n",
        "        else:\n",
        "            print(\"비정상 혈압입니다. 정밀 검사가 필요합니다\")\n",
        "    elif (bloodPressure['sex'] == 'F'):\n",
        "        if(bloodPressure['maxBP']<115 and bloodPressure['minBP']<75):\n",
        "            print(\"정상 혈압입니다.\")\n",
        "        else:\n",
        "            print(\"비정상 혈압입니다. 정밀 검사가 필요합니다\")\n",
        "    else:\n",
        "        print(\"성별을 잘못 입력하였습니다.\")   # 나이에 대한 예외 처리\n",
        "else:\n",
        "    print( \"나이를 잘못 입력하였습니다.\")       # 나이에 대한 예외 처리\n",
        "\n",
        "\n"
      ],
      "execution_count": 10,
      "outputs": [
        {
          "output_type": "stream",
          "name": "stdout",
          "text": [
            "비정상 혈압입니다. 정밀 검사가 필요합니다\n"
          ]
        }
      ]
    },
    {
      "cell_type": "code",
      "metadata": {
        "colab": {
          "base_uri": "https://localhost:8080/"
        },
        "id": "1gX0j_fgvgLS",
        "outputId": "3dfa4c6e-a572-4d6d-aab1-cac0635e8630"
      },
      "source": [
        "age = -20\n",
        "if(age >=20 ):\n",
        "    print(\"주류 판매가 가능합니다.\")\n",
        "elif(age < 20):\n",
        "    print(\"주류 판매가 불가능합니다.\")\n",
        "else:\n",
        "    print(\"나이를 잘못 입력했습니다.\")"
      ],
      "execution_count": 11,
      "outputs": [
        {
          "output_type": "stream",
          "name": "stdout",
          "text": [
            "주류 판매가 불가능합니다.\n"
          ]
        }
      ]
    }
  ]
}